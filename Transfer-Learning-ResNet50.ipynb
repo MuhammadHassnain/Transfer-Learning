{
  "nbformat": 4,
  "nbformat_minor": 0,
  "metadata": {
    "colab": {
      "name": "DL_A3.ipynb",
      "provenance": [],
      "collapsed_sections": []
    },
    "kernelspec": {
      "name": "python3",
      "display_name": "Python 3"
    },
    "accelerator": "GPU"
  },
  "cells": [
    {
      "cell_type": "code",
      "metadata": {
        "id": "EiZUIfXdK4_l",
        "colab_type": "code",
        "colab": {}
      },
      "source": [
        "from keras.applications.resnet import ResNet50"
      ],
      "execution_count": null,
      "outputs": []
    },
    {
      "cell_type": "code",
      "metadata": {
        "id": "LEzefWdyPfXX",
        "colab_type": "code",
        "colab": {}
      },
      "source": [
        "import numpy as np\n",
        "from sklearn.model_selection import train_test_split"
      ],
      "execution_count": null,
      "outputs": []
    },
    {
      "cell_type": "code",
      "metadata": {
        "id": "-bSV1wMjN9aL",
        "colab_type": "code",
        "colab": {}
      },
      "source": [
        "from keras.datasets import cifar10\n",
        "from keras.layers import Input,Dense,Flatten,Dropout,Conv2DTranspose\n",
        "from keras.models import Model, Sequential\n",
        "\n",
        "from keras.utils import to_categorical\n"
      ],
      "execution_count": null,
      "outputs": []
    },
    {
      "cell_type": "code",
      "metadata": {
        "id": "tMVvOSALOknD",
        "colab_type": "code",
        "colab": {
          "base_uri": "https://localhost:8080/",
          "height": 34
        },
        "outputId": "5b41b595-0151-4df1-c7d4-dbf08128c066"
      },
      "source": [
        "(x_train, y_train), (x_valid, y_valid) = cifar10.load_data()\n",
        "print(x_train.shape,y_train.shape)"
      ],
      "execution_count": null,
      "outputs": [
        {
          "output_type": "stream",
          "text": [
            "(50000, 32, 32, 3) (50000, 1)\n"
          ],
          "name": "stdout"
        }
      ]
    },
    {
      "cell_type": "code",
      "metadata": {
        "id": "5bS3CUdLd45d",
        "colab_type": "code",
        "colab": {}
      },
      "source": [
        "y_train = y_train.reshape(-1,)"
      ],
      "execution_count": null,
      "outputs": []
    },
    {
      "cell_type": "code",
      "metadata": {
        "id": "GrXT8w4AQmwT",
        "colab_type": "code",
        "colab": {
          "base_uri": "https://localhost:8080/",
          "height": 34
        },
        "outputId": "be913ce5-5082-4525-97f7-4619e1e47a6a"
      },
      "source": [
        "np.unique(y_train)"
      ],
      "execution_count": null,
      "outputs": [
        {
          "output_type": "execute_result",
          "data": {
            "text/plain": [
              "array([0, 1, 2, 3, 4, 5, 6, 7, 8, 9], dtype=uint8)"
            ]
          },
          "metadata": {
            "tags": []
          },
          "execution_count": 109
        }
      ]
    },
    {
      "cell_type": "code",
      "metadata": {
        "id": "Ka-MpYYWOyIJ",
        "colab_type": "code",
        "colab": {}
      },
      "source": [
        "classes5 = np.where(y_train < 5)"
      ],
      "execution_count": null,
      "outputs": []
    },
    {
      "cell_type": "code",
      "metadata": {
        "id": "JWnYQvQuQsr3",
        "colab_type": "code",
        "colab": {}
      },
      "source": [
        "x = x_train[classes5]"
      ],
      "execution_count": null,
      "outputs": []
    },
    {
      "cell_type": "code",
      "metadata": {
        "id": "eDzk1Wi6RWLN",
        "colab_type": "code",
        "colab": {}
      },
      "source": [
        "y = y_train[classes5]"
      ],
      "execution_count": null,
      "outputs": []
    },
    {
      "cell_type": "code",
      "metadata": {
        "id": "Y1h6Mc7veuKf",
        "colab_type": "code",
        "colab": {
          "base_uri": "https://localhost:8080/",
          "height": 34
        },
        "outputId": "fb41b801-612b-4a2b-a838-3a5773d3b31b"
      },
      "source": [
        "print(x.shape,y.shape)"
      ],
      "execution_count": null,
      "outputs": [
        {
          "output_type": "stream",
          "text": [
            "(25000, 32, 32, 3) (25000,)\n"
          ],
          "name": "stdout"
        }
      ]
    },
    {
      "cell_type": "code",
      "metadata": {
        "id": "i30LICADe6d1",
        "colab_type": "code",
        "colab": {}
      },
      "source": [
        "x = x.reshape(x.shape[0],32,32,3)\n",
        "y = to_categorical(y,num_classes=5)"
      ],
      "execution_count": null,
      "outputs": []
    },
    {
      "cell_type": "code",
      "metadata": {
        "id": "YSz3WGXyfU4Q",
        "colab_type": "code",
        "colab": {
          "base_uri": "https://localhost:8080/",
          "height": 34
        },
        "outputId": "9c90d1ee-0dd2-4edb-fb9e-4d47e1a8a825"
      },
      "source": [
        "print(x.shape,y.shape)"
      ],
      "execution_count": null,
      "outputs": [
        {
          "output_type": "stream",
          "text": [
            "(25000, 32, 32, 3) (25000, 5)\n"
          ],
          "name": "stdout"
        }
      ]
    },
    {
      "cell_type": "code",
      "metadata": {
        "id": "NlWKa5UYfnR9",
        "colab_type": "code",
        "colab": {}
      },
      "source": [
        "x = x.astype('float')/255.0"
      ],
      "execution_count": null,
      "outputs": []
    },
    {
      "cell_type": "code",
      "metadata": {
        "id": "k_JomqcHgRAk",
        "colab_type": "code",
        "colab": {
          "base_uri": "https://localhost:8080/",
          "height": 34
        },
        "outputId": "e930d9a1-b589-418b-db80-788fd70f2158"
      },
      "source": [
        "x_train,x_test,y_train,y_test = train_test_split(x,y,test_size=0.20,shuffle=True)\n",
        "x_train.shape"
      ],
      "execution_count": null,
      "outputs": [
        {
          "output_type": "execute_result",
          "data": {
            "text/plain": [
              "(20000, 32, 32, 3)"
            ]
          },
          "metadata": {
            "tags": []
          },
          "execution_count": 117
        }
      ]
    },
    {
      "cell_type": "code",
      "metadata": {
        "id": "HlzrV4bListA",
        "colab_type": "code",
        "colab": {
          "base_uri": "https://localhost:8080/",
          "height": 34
        },
        "outputId": "9a224634-ac7b-4812-8eeb-10cd247682bf"
      },
      "source": [
        "x_test,x_valid,y_test,y_valid = train_test_split(x_test,y_test ,test_size= 0.5)\n",
        "x_test.shape"
      ],
      "execution_count": null,
      "outputs": [
        {
          "output_type": "execute_result",
          "data": {
            "text/plain": [
              "(2500, 32, 32, 3)"
            ]
          },
          "metadata": {
            "tags": []
          },
          "execution_count": 118
        }
      ]
    },
    {
      "cell_type": "code",
      "metadata": {
        "id": "T-9AiDGXgh_f",
        "colab_type": "code",
        "colab": {
          "base_uri": "https://localhost:8080/",
          "height": 34
        },
        "outputId": "038e6901-f45c-4901-b1f1-99bcdfb83020"
      },
      "source": [
        "print(x_train.shape,x_test.shape,x_valid.shape)"
      ],
      "execution_count": null,
      "outputs": [
        {
          "output_type": "stream",
          "text": [
            "(20000, 32, 32, 3) (2500, 32, 32, 3) (2500, 32, 32, 3)\n"
          ],
          "name": "stdout"
        }
      ]
    },
    {
      "cell_type": "code",
      "metadata": {
        "id": "CNUr4jTxZhlT",
        "colab_type": "code",
        "colab": {}
      },
      "source": [
        "input_tensor = Input(shape=(32,32,3))\n",
        "inp = Conv2DTranspose(3,(2,2),strides=(2,2))(input_tensor);\n",
        "inp = Conv2DTranspose(3,(2,2),strides=(2,2))(inp);"
      ],
      "execution_count": null,
      "outputs": []
    },
    {
      "cell_type": "code",
      "metadata": {
        "id": "TnNRFGETP048",
        "colab_type": "code",
        "colab": {}
      },
      "source": [
        "model = ResNet50( weights = 'imagenet' , include_top = False)\n",
        "model = model(inp)"
      ],
      "execution_count": null,
      "outputs": []
    },
    {
      "cell_type": "code",
      "metadata": {
        "id": "xtXMtxoB0L4G",
        "colab_type": "code",
        "colab": {}
      },
      "source": [
        ""
      ],
      "execution_count": null,
      "outputs": []
    },
    {
      "cell_type": "code",
      "metadata": {
        "id": "CFsm2I38V8Nj",
        "colab_type": "code",
        "colab": {}
      },
      "source": [
        "model.summary()\n"
      ],
      "execution_count": null,
      "outputs": []
    },
    {
      "cell_type": "code",
      "metadata": {
        "id": "ka7RCyJYaasR",
        "colab_type": "code",
        "colab": {
          "base_uri": "https://localhost:8080/",
          "height": 425
        },
        "outputId": "7328dce1-dfff-49c3-9759-35c616c36e3a"
      },
      "source": [
        "flat= Flatten(name='flatten')(model)\n",
        "out = Dense(1024,activation= 'relu', name = 'fc_1')(flat)\n",
        "out = Dense(512,activation = 'relu',name = 'fc_2')(out)\n",
        "out = Dense(5,activation = 'softmax' ,name = 'fc_3')(out)\n",
        "custom_resnet_model = Model(inputs=input_tensor,outputs= out)\n",
        "custom_resnet_model.summary()"
      ],
      "execution_count": null,
      "outputs": [
        {
          "output_type": "stream",
          "text": [
            "Model: \"functional_7\"\n",
            "_________________________________________________________________\n",
            "Layer (type)                 Output Shape              Param #   \n",
            "=================================================================\n",
            "input_31 (InputLayer)        [(None, 32, 32, 3)]       0         \n",
            "_________________________________________________________________\n",
            "conv2d_transpose_26 (Conv2DT (None, 64, 64, 3)         39        \n",
            "_________________________________________________________________\n",
            "conv2d_transpose_27 (Conv2DT (None, 128, 128, 3)       39        \n",
            "_________________________________________________________________\n",
            "resnet50 (Functional)        (None, None, None, 2048)  23587712  \n",
            "_________________________________________________________________\n",
            "flatten (Flatten)            (None, 32768)             0         \n",
            "_________________________________________________________________\n",
            "fc_1 (Dense)                 (None, 1024)              33555456  \n",
            "_________________________________________________________________\n",
            "fc_2 (Dense)                 (None, 512)               524800    \n",
            "_________________________________________________________________\n",
            "fc_3 (Dense)                 (None, 5)                 2565      \n",
            "=================================================================\n",
            "Total params: 57,670,611\n",
            "Trainable params: 57,617,491\n",
            "Non-trainable params: 53,120\n",
            "_________________________________________________________________\n"
          ],
          "name": "stdout"
        }
      ]
    },
    {
      "cell_type": "code",
      "metadata": {
        "id": "S8BZBmT9a4IH",
        "colab_type": "code",
        "colab": {}
      },
      "source": [
        "for layer in custom_resnet_model.layers[5:-5]:\n",
        "\tlayer.trainable = False"
      ],
      "execution_count": null,
      "outputs": []
    },
    {
      "cell_type": "code",
      "metadata": {
        "id": "2NiR11g_ByMw",
        "colab_type": "code",
        "colab": {
          "base_uri": "https://localhost:8080/",
          "height": 561
        },
        "outputId": "4eb3c3f9-7d79-468b-e1e3-2e738e7f428b"
      },
      "source": [
        "for layer in custom_resnet_model.layers:\n",
        "  print(layer.name,\":\",layer.trainable)\n",
        "custom_resnet_model.summary()"
      ],
      "execution_count": null,
      "outputs": [
        {
          "output_type": "stream",
          "text": [
            "input_31 : True\n",
            "conv2d_transpose_26 : True\n",
            "conv2d_transpose_27 : True\n",
            "resnet50 : True\n",
            "flatten : True\n",
            "fc_1 : True\n",
            "fc_2 : True\n",
            "fc_3 : True\n",
            "Model: \"functional_7\"\n",
            "_________________________________________________________________\n",
            "Layer (type)                 Output Shape              Param #   \n",
            "=================================================================\n",
            "input_31 (InputLayer)        [(None, 32, 32, 3)]       0         \n",
            "_________________________________________________________________\n",
            "conv2d_transpose_26 (Conv2DT (None, 64, 64, 3)         39        \n",
            "_________________________________________________________________\n",
            "conv2d_transpose_27 (Conv2DT (None, 128, 128, 3)       39        \n",
            "_________________________________________________________________\n",
            "resnet50 (Functional)        (None, None, None, 2048)  23587712  \n",
            "_________________________________________________________________\n",
            "flatten (Flatten)            (None, 32768)             0         \n",
            "_________________________________________________________________\n",
            "fc_1 (Dense)                 (None, 1024)              33555456  \n",
            "_________________________________________________________________\n",
            "fc_2 (Dense)                 (None, 512)               524800    \n",
            "_________________________________________________________________\n",
            "fc_3 (Dense)                 (None, 5)                 2565      \n",
            "=================================================================\n",
            "Total params: 57,670,611\n",
            "Trainable params: 57,617,491\n",
            "Non-trainable params: 53,120\n",
            "_________________________________________________________________\n"
          ],
          "name": "stdout"
        }
      ]
    },
    {
      "cell_type": "code",
      "metadata": {
        "id": "3ho4SeXMh1hy",
        "colab_type": "code",
        "colab": {}
      },
      "source": [
        "custom_resnet_model.compile(loss='categorical_crossentropy',optimizer='adam',metrics=['accuracy'])"
      ],
      "execution_count": null,
      "outputs": []
    },
    {
      "cell_type": "code",
      "metadata": {
        "id": "iZz_HLDeoVsm",
        "colab_type": "code",
        "colab": {
          "base_uri": "https://localhost:8080/",
          "height": 1000
        },
        "outputId": "52183492-1fce-43ac-ae76-d362b5a06445"
      },
      "source": [
        "custom_resnet_model.fit(x_train, y_train, batch_size=32, epochs=30, verbose=1, validation_data=(x_valid, y_valid))"
      ],
      "execution_count": null,
      "outputs": [
        {
          "output_type": "stream",
          "text": [
            "Epoch 1/30\n",
            "  2/625 [..............................] - ETA: 1:25 - loss: 30.7436 - accuracy: 0.1094WARNING:tensorflow:Callbacks method `on_train_batch_end` is slow compared to the batch time (batch time: 0.0599s vs `on_train_batch_end` time: 0.0920s). Check your callbacks.\n",
            "625/625 [==============================] - 85s 136ms/step - loss: 1.0384 - accuracy: 0.6745 - val_loss: 4.1887 - val_accuracy: 0.2004\n",
            "Epoch 2/30\n",
            "625/625 [==============================] - 84s 134ms/step - loss: 0.5468 - accuracy: 0.8087 - val_loss: 1.6830 - val_accuracy: 0.3692\n",
            "Epoch 3/30\n",
            "625/625 [==============================] - 84s 134ms/step - loss: 0.4108 - accuracy: 0.8565 - val_loss: 0.4714 - val_accuracy: 0.8260\n",
            "Epoch 4/30\n",
            "625/625 [==============================] - 84s 134ms/step - loss: 0.3867 - accuracy: 0.8680 - val_loss: 0.6942 - val_accuracy: 0.7680\n",
            "Epoch 5/30\n",
            "625/625 [==============================] - 84s 134ms/step - loss: 0.4465 - accuracy: 0.8493 - val_loss: 0.7792 - val_accuracy: 0.7108\n",
            "Epoch 6/30\n",
            "625/625 [==============================] - 84s 134ms/step - loss: 0.3507 - accuracy: 0.8794 - val_loss: 0.5050 - val_accuracy: 0.8252\n",
            "Epoch 7/30\n",
            "625/625 [==============================] - 84s 134ms/step - loss: 0.2154 - accuracy: 0.9252 - val_loss: 0.4439 - val_accuracy: 0.8440\n",
            "Epoch 8/30\n",
            "625/625 [==============================] - 84s 134ms/step - loss: 0.1850 - accuracy: 0.9369 - val_loss: 0.5381 - val_accuracy: 0.8404\n",
            "Epoch 9/30\n",
            "625/625 [==============================] - 84s 134ms/step - loss: 0.2430 - accuracy: 0.9202 - val_loss: 0.5815 - val_accuracy: 0.8092\n",
            "Epoch 10/30\n",
            "625/625 [==============================] - 84s 134ms/step - loss: 0.1942 - accuracy: 0.9352 - val_loss: 0.5114 - val_accuracy: 0.8640\n",
            "Epoch 11/30\n",
            "625/625 [==============================] - 83s 134ms/step - loss: 0.1032 - accuracy: 0.9655 - val_loss: 0.4543 - val_accuracy: 0.8740\n",
            "Epoch 12/30\n",
            "625/625 [==============================] - 83s 133ms/step - loss: 0.1567 - accuracy: 0.9485 - val_loss: 0.6182 - val_accuracy: 0.8448\n",
            "Epoch 13/30\n",
            "625/625 [==============================] - 84s 134ms/step - loss: 0.2076 - accuracy: 0.9369 - val_loss: 0.6642 - val_accuracy: 0.8248\n",
            "Epoch 14/30\n",
            "625/625 [==============================] - 84s 134ms/step - loss: 0.2838 - accuracy: 0.8898 - val_loss: 0.7542 - val_accuracy: 0.7092\n",
            "Epoch 15/30\n",
            "625/625 [==============================] - 83s 133ms/step - loss: 0.2036 - accuracy: 0.9239 - val_loss: 1.1516 - val_accuracy: 0.4736\n",
            "Epoch 16/30\n",
            "625/625 [==============================] - 83s 134ms/step - loss: 0.2071 - accuracy: 0.9316 - val_loss: 0.5077 - val_accuracy: 0.8512\n",
            "Epoch 17/30\n",
            "625/625 [==============================] - 83s 133ms/step - loss: 0.1381 - accuracy: 0.9477 - val_loss: 0.6131 - val_accuracy: 0.8348\n",
            "Epoch 18/30\n",
            "625/625 [==============================] - 83s 133ms/step - loss: 0.3144 - accuracy: 0.8866 - val_loss: 1.0445 - val_accuracy: 0.6440\n",
            "Epoch 19/30\n",
            "625/625 [==============================] - 83s 133ms/step - loss: 0.1288 - accuracy: 0.9564 - val_loss: 0.7540 - val_accuracy: 0.8048\n",
            "Epoch 20/30\n",
            "625/625 [==============================] - 83s 133ms/step - loss: 0.0807 - accuracy: 0.9712 - val_loss: 0.7361 - val_accuracy: 0.8452\n",
            "Epoch 21/30\n",
            "625/625 [==============================] - 84s 134ms/step - loss: 0.0444 - accuracy: 0.9861 - val_loss: 0.8056 - val_accuracy: 0.8440\n",
            "Epoch 22/30\n",
            "625/625 [==============================] - 84s 134ms/step - loss: 0.0405 - accuracy: 0.9879 - val_loss: 0.6318 - val_accuracy: 0.8708\n",
            "Epoch 23/30\n",
            "625/625 [==============================] - 84s 134ms/step - loss: 0.0512 - accuracy: 0.9841 - val_loss: 0.6069 - val_accuracy: 0.8524\n",
            "Epoch 24/30\n",
            "625/625 [==============================] - 84s 134ms/step - loss: 0.0505 - accuracy: 0.9844 - val_loss: 0.6606 - val_accuracy: 0.8644\n",
            "Epoch 25/30\n",
            "625/625 [==============================] - 83s 134ms/step - loss: 0.0422 - accuracy: 0.9880 - val_loss: 0.7356 - val_accuracy: 0.8472\n",
            "Epoch 26/30\n",
            "625/625 [==============================] - 83s 133ms/step - loss: 0.0441 - accuracy: 0.9865 - val_loss: 0.6479 - val_accuracy: 0.8524\n",
            "Epoch 27/30\n",
            "625/625 [==============================] - 83s 134ms/step - loss: 0.0347 - accuracy: 0.9902 - val_loss: 0.6849 - val_accuracy: 0.8544\n",
            "Epoch 28/30\n",
            "625/625 [==============================] - 84s 134ms/step - loss: 0.0440 - accuracy: 0.9887 - val_loss: 0.5738 - val_accuracy: 0.8744\n",
            "Epoch 29/30\n",
            "625/625 [==============================] - 84s 134ms/step - loss: 0.0587 - accuracy: 0.9827 - val_loss: 0.7430 - val_accuracy: 0.8512\n",
            "Epoch 30/30\n",
            "625/625 [==============================] - 84s 134ms/step - loss: 0.0521 - accuracy: 0.9855 - val_loss: 0.5847 - val_accuracy: 0.8760\n"
          ],
          "name": "stdout"
        },
        {
          "output_type": "execute_result",
          "data": {
            "text/plain": [
              "<tensorflow.python.keras.callbacks.History at 0x7f179ed0efd0>"
            ]
          },
          "metadata": {
            "tags": []
          },
          "execution_count": 127
        }
      ]
    },
    {
      "cell_type": "code",
      "metadata": {
        "id": "-Vs-F4VJjlsr",
        "colab_type": "code",
        "colab": {
          "base_uri": "https://localhost:8080/",
          "height": 51
        },
        "outputId": "2edd5251-95d6-44a8-8518-6166243fc376"
      },
      "source": [
        "custom_resnet_model.evaluate(x_test,y_test,batch_size=1,verbose = 1)"
      ],
      "execution_count": null,
      "outputs": [
        {
          "output_type": "stream",
          "text": [
            "2500/2500 [==============================] - 21s 8ms/step - loss: 0.7280 - accuracy: 0.8580\n"
          ],
          "name": "stdout"
        },
        {
          "output_type": "execute_result",
          "data": {
            "text/plain": [
              "[0.7279995679855347, 0.8579999804496765]"
            ]
          },
          "metadata": {
            "tags": []
          },
          "execution_count": 128
        }
      ]
    },
    {
      "cell_type": "code",
      "metadata": {
        "id": "c1oXFEvTGpQn",
        "colab_type": "code",
        "colab": {}
      },
      "source": [
        ""
      ],
      "execution_count": null,
      "outputs": []
    },
    {
      "cell_type": "code",
      "metadata": {
        "id": "SPhaNYZuknBh",
        "colab_type": "code",
        "colab": {}
      },
      "source": [
        ""
      ],
      "execution_count": null,
      "outputs": []
    }
  ]
}